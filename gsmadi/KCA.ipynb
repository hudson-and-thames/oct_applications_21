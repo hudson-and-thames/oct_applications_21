{
 "cells": [
  {
   "cell_type": "markdown",
   "id": "01b04943-e8ea-4c60-9680-50b24cc0b424",
   "metadata": {
    "tags": []
   },
   "source": [
    "# Kinetic Component Analysis (KCA)"
   ]
  },
  {
   "cell_type": "markdown",
   "id": "be28c9a5-1bbd-42e0-9357-c3e565c07bb1",
   "metadata": {},
   "source": [
    "## Introduction"
   ]
  },
  {
   "cell_type": "markdown",
   "id": "1a1db0f0-94fe-4ada-80ab-b4aa0c3ccabd",
   "metadata": {},
   "source": [
    "In this writing, we present results of applying Kinetic Component Analysis (KCA) to various futures contract prices. KCA is a novel state-state application where it applies a Kalman Filter on a Taylor Series expansion of a stochastic process. KCA as compared to other noise-reducing methods has several interesting qualities:\n",
    "- KCA provides additional information such as velocity and acceleration (\"first and second derivatives of the position in state-space\")\n",
    "- KCA provides band estimates / confidence intervals in addition to point estimates\n",
    "- KCA provides forecasting capabilities that other algorithms such as FFT and LOWESS dont provide\n",
    "\n",
    "We perform some initial exploration of KCA over gold futures price path. We then see how well KCA performs at performing forecasts over future price movements."
   ]
  },
  {
   "cell_type": "markdown",
   "id": "60ddcb12-8134-4b5a-b2db-bc3c818f23ba",
   "metadata": {},
   "source": [
    "### Data exploration"
   ]
  },
  {
   "cell_type": "code",
   "execution_count": 1,
   "id": "a84eb887-0a2a-453a-8e53-a6b58a145dfb",
   "metadata": {},
   "outputs": [
    {
     "data": {
      "image/png": "[encoded data removed]",
      "text/plain": [
       "<Figure size 432x288 with 1 Axes>"
      ]
     },
     "metadata": {
      "needs_background": "light"
     },
     "output_type": "display_data"
    }
   ],
   "source": [
    "import pandas as pd\n",
    "from src.plotting import plot_gold_future_price\n",
    "\n",
    "futures_data = pd.read_csv('data/futures.csv', header=[0,1], index_col=0)\n",
    "futures_data.index = pd.to_datetime(futures_data.index)\n",
    "\n",
    "futures_universe = futures_data.iloc[:][\"Adj Close\"]\n",
    "gold_futures = futures_universe[\"GC=F\"].to_frame()\n",
    "\n",
    "plot_gold_future_price(gold_futures)"
   ]
  },
  {
   "cell_type": "markdown",
   "id": "2b4d7782-c99c-4c40-8424-ea6331a4c9ab",
   "metadata": {},
   "source": [
    "We download some sample future price data to use with KCA. We have saved the top 10 futures contract prices as weighed by volume. We select these given these would be the most liquid and data rich. Throughout, we will be exploring gold futures in more depth. Above we see gold futures contract price for the past 10 years (2010-2020)"
   ]
  },
  {
   "cell_type": "code",
   "execution_count": 2,
   "id": "1c3ad0e5-8aba-4f0c-85f3-20eaf66403b6",
   "metadata": {},
   "outputs": [],
   "source": [
    "from sklearn.model_selection import train_test_split\n",
    "\n",
    "train, test = train_test_split(gold_futures, test_size=0.05, shuffle=False)\n",
    "validate = train.copy(deep=True)"
   ]
  },
  {
   "cell_type": "markdown",
   "id": "e94eadd5-6617-46da-a59e-257248db97b1",
   "metadata": {},
   "source": [
    "To prep the data for usage with our KCA algorithm we split it between training and test sets. We will use the training set to perform the initial fit and see how well KCA performs. The test set will be used later to test its forecasting capabilities. We also create a validation set to use with out KCA trading class in later cells."
   ]
  },
  {
   "cell_type": "code",
   "execution_count": 3,
   "id": "b82b9c82-30f2-45b6-aa09-691ac38b5032",
   "metadata": {},
   "outputs": [],
   "source": [
    "from src.kca import fitKCA\n",
    "from src.utils import split_price_time_series\n",
    "\n",
    "price_series, time_series = split_price_time_series(train)\n",
    "\n",
    "x_mu, x_std, x_covar = fitKCA(time_series, price_series, 1000)"
   ]
  },
  {
   "cell_type": "markdown",
   "id": "1cccc854-3eb9-4018-af87-45b792f65c31",
   "metadata": {},
   "source": [
    "In the above cell we split price and time series for our gold futures price training set and feed it to the `fitKCA` function. We note that the `fitKCA` function is a functionally equivalent implementation to the original paper. The only modifications made have been for styling purposes."
   ]
  },
  {
   "cell_type": "code",
   "execution_count": 4,
   "id": "0d0de257-59e8-4b86-90cf-9fb805dd57a3",
   "metadata": {},
   "outputs": [
    {
     "data": {
      "text/html": [
       "<div>\n",
       "<style scoped>\n",
       "    .dataframe tbody tr th:only-of-type {\n",
       "        vertical-align: middle;\n",
       "    }\n",
       "\n",
       "    .dataframe tbody tr th {\n",
       "        vertical-align: top;\n",
       "    }\n",
       "\n",
       "    .dataframe thead th {\n",
       "        text-align: right;\n",
       "    }\n",
       "</style>\n",
       "<table border=\"1\" class=\"dataframe\">\n",
       "  <thead>\n",
       "    <tr style=\"text-align: right;\">\n",
       "      <th></th>\n",
       "      <th>GC=F</th>\n",
       "      <th>KCA_position</th>\n",
       "      <th>KCA_velocity</th>\n",
       "      <th>KCA_position_std</th>\n",
       "    </tr>\n",
       "    <tr>\n",
       "      <th>Date</th>\n",
       "      <th></th>\n",
       "      <th></th>\n",
       "      <th></th>\n",
       "      <th></th>\n",
       "    </tr>\n",
       "  </thead>\n",
       "  <tbody>\n",
       "    <tr>\n",
       "      <th>2010-01-04</th>\n",
       "      <td>1117.699951</td>\n",
       "      <td>558.5</td>\n",
       "      <td>1.110772e-39</td>\n",
       "      <td>7.071068e-01</td>\n",
       "    </tr>\n",
       "    <tr>\n",
       "      <th>2010-01-05</th>\n",
       "      <td>1118.099976</td>\n",
       "      <td>1118.0</td>\n",
       "      <td>2.282221e-12</td>\n",
       "      <td>9.141969e+19</td>\n",
       "    </tr>\n",
       "    <tr>\n",
       "      <th>2010-01-06</th>\n",
       "      <td>1135.900024</td>\n",
       "      <td>1135.0</td>\n",
       "      <td>5.938129e-14</td>\n",
       "      <td>9.038631e+19</td>\n",
       "    </tr>\n",
       "    <tr>\n",
       "      <th>2010-01-07</th>\n",
       "      <td>1133.099976</td>\n",
       "      <td>1133.0</td>\n",
       "      <td>1.187626e-14</td>\n",
       "      <td>9.038631e+19</td>\n",
       "    </tr>\n",
       "    <tr>\n",
       "      <th>2010-01-08</th>\n",
       "      <td>1138.199951</td>\n",
       "      <td>1138.0</td>\n",
       "      <td>6.729879e-14</td>\n",
       "      <td>9.038631e+19</td>\n",
       "    </tr>\n",
       "    <tr>\n",
       "      <th>...</th>\n",
       "      <td>...</td>\n",
       "      <td>...</td>\n",
       "      <td>...</td>\n",
       "      <td>...</td>\n",
       "    </tr>\n",
       "    <tr>\n",
       "      <th>2020-06-05</th>\n",
       "      <td>1676.199951</td>\n",
       "      <td>1676.0</td>\n",
       "      <td>-7.917505e-14</td>\n",
       "      <td>9.038631e+19</td>\n",
       "    </tr>\n",
       "    <tr>\n",
       "      <th>2020-06-08</th>\n",
       "      <td>1698.300049</td>\n",
       "      <td>1698.0</td>\n",
       "      <td>1.504326e-13</td>\n",
       "      <td>9.038631e+19</td>\n",
       "    </tr>\n",
       "    <tr>\n",
       "      <th>2020-06-09</th>\n",
       "      <td>1714.699951</td>\n",
       "      <td>1714.0</td>\n",
       "      <td>5.938129e-14</td>\n",
       "      <td>9.038631e+19</td>\n",
       "    </tr>\n",
       "    <tr>\n",
       "      <th>2020-06-10</th>\n",
       "      <td>1713.300049</td>\n",
       "      <td>1713.0</td>\n",
       "      <td>7.125754e-14</td>\n",
       "      <td>9.038631e+19</td>\n",
       "    </tr>\n",
       "    <tr>\n",
       "      <th>2020-06-11</th>\n",
       "      <td>1732.000000</td>\n",
       "      <td>1732.0</td>\n",
       "      <td>2.296076e-13</td>\n",
       "      <td>9.038631e+19</td>\n",
       "    </tr>\n",
       "  </tbody>\n",
       "</table>\n",
       "<p>2607 rows × 4 columns</p>\n",
       "</div>"
      ],
      "text/plain": [
       "                   GC=F  KCA_position  KCA_velocity  KCA_position_std\n",
       "Date                                                                 \n",
       "2010-01-04  1117.699951         558.5  1.110772e-39      7.071068e-01\n",
       "2010-01-05  1118.099976        1118.0  2.282221e-12      9.141969e+19\n",
       "2010-01-06  1135.900024        1135.0  5.938129e-14      9.038631e+19\n",
       "2010-01-07  1133.099976        1133.0  1.187626e-14      9.038631e+19\n",
       "2010-01-08  1138.199951        1138.0  6.729879e-14      9.038631e+19\n",
       "...                 ...           ...           ...               ...\n",
       "2020-06-05  1676.199951        1676.0 -7.917505e-14      9.038631e+19\n",
       "2020-06-08  1698.300049        1698.0  1.504326e-13      9.038631e+19\n",
       "2020-06-09  1714.699951        1714.0  5.938129e-14      9.038631e+19\n",
       "2020-06-10  1713.300049        1713.0  7.125754e-14      9.038631e+19\n",
       "2020-06-11  1732.000000        1732.0  2.296076e-13      9.038631e+19\n",
       "\n",
       "[2607 rows x 4 columns]"
      ]
     },
     "execution_count": 4,
     "metadata": {},
     "output_type": "execute_result"
    }
   ],
   "source": [
    "from src.utils import add_kca_results\n",
    "\n",
    "trained = add_kca_results(train, x_mu, x_std)\n",
    "\n",
    "trained"
   ]
  },
  {
   "cell_type": "code",
   "execution_count": 5,
   "id": "0015b22a-dfed-44d8-8af2-3ce9d3d1df4d",
   "metadata": {},
   "outputs": [
    {
     "data": {
      "image/png": "[encoded data removed]",
      "text/plain": [
       "<Figure size 432x288 with 1 Axes>"
      ]
     },
     "metadata": {
      "needs_background": "light"
     },
     "output_type": "display_data"
    }
   ],
   "source": [
    "from src.plotting import plot_gold_future_to_kca_position, plot_gold_kca_position_velocity\n",
    "\n",
    "plot_gold_future_to_kca_position(trained)"
   ]
  },
  {
   "cell_type": "markdown",
   "id": "bf0438da-2288-480f-9541-49347c2f03ba",
   "metadata": {},
   "source": [
    "In the above figure we can appreciate how well KCA fits the provided training set for gold futures contract price path. We do highlight two anomalies. First, at the beggining in 2010 we see the fit wasnt as good. This is expected and the paper explains this is due to Kalman filters converging on true values asymtotically. Hence, it will take a few initial observations to converge to the actual price path. Here we see it happened quite quickly.\n",
    "\n",
    "The second anomaly can be seen a bit after year 2018. For now, we lack an explanation for such a deviation."
   ]
  },
  {
   "cell_type": "code",
   "execution_count": 6,
   "id": "cbd5a5c3-b385-4832-aa21-49c05db91a7a",
   "metadata": {},
   "outputs": [
    {
     "data": {
      "image/png": "[encoded data removed]",
      "text/plain": [
       "<Figure size 432x288 with 1 Axes>"
      ]
     },
     "metadata": {
      "needs_background": "light"
     },
     "output_type": "display_data"
    }
   ],
   "source": [
    "plot_gold_kca_position_velocity(trained)"
   ]
  },
  {
   "cell_type": "markdown",
   "id": "ecb5af86-5cd9-4f63-852d-c00e1404f2c5",
   "metadata": {},
   "source": [
    "From our KCA fit we also get a velocity component, which can be thought of as how quick the position is moving in state-space. There are interesting relationships here and in fact it does seem to coincide with large spikes in price movements. However, we have no special statistical relationships established at the moment that could prove relevant for us."
   ]
  },
  {
   "cell_type": "markdown",
   "id": "94e49fc9-a0cf-4046-89f0-61b086614084",
   "metadata": {},
   "source": [
    "## KCA Trading with Gold Futures"
   ]
  },
  {
   "cell_type": "code",
   "execution_count": 7,
   "id": "5792e40e-4f12-4942-9cf6-5178286a7ccd",
   "metadata": {},
   "outputs": [
    {
     "name": "stderr",
     "output_type": "stream",
     "text": [
      "/home/gsmadi/Dev/oct_applications_21/gsmadi/src/kca.py:55: RuntimeWarning: invalid value encountered in sqrt\n",
      "  x_std_ = x_covar[:, i, i]**.5\n"
     ]
    },
    {
     "name": "stdout",
     "output_type": "stream",
     "text": [
      "Prediction: 1770.999994151051, Decision: Buy\n"
     ]
    },
    {
     "name": "stderr",
     "output_type": "stream",
     "text": [
      "/home/gsmadi/Dev/oct_applications_21/gsmadi/src/kca.py:53: RuntimeWarning: invalid value encountered in sqrt\n",
      "  x_std = (x_covar[:, 0, 0]**.5).reshape(-1, 1)\n"
     ]
    },
    {
     "name": "stdout",
     "output_type": "stream",
     "text": [
      "9.36 s ± 133 ms per loop (mean ± std. dev. of 7 runs, 1 loop each)\n"
     ]
    }
   ],
   "source": [
    "from src.trading import generate_trade_signal, KCAStrategy\n",
    "\n",
    "signal = generate_trade_signal(validate)\n",
    "print(\"Prediction: {prediction}, Decision: {decision}\".format(prediction=signal[0], decision=\"Buy\" if signal[1] == 1 else \"Sell\"))\n",
    "%timeit generate_trade_signal(validate)"
   ]
  },
  {
   "cell_type": "markdown",
   "id": "9be5a850-5cd8-4984-9d62-81abc31d5fe3",
   "metadata": {},
   "source": [
    "Above is a our `generate_trade_signal` function which take in a price signal and produces a trade decision with a price prediction for the next given day.\n",
    "\n",
    "We note that the function make use of `fitKCA` and we observe on average the fitting routine takes around 10 seconds."
   ]
  },
  {
   "cell_type": "code",
   "execution_count": 8,
   "id": "9bacd1bf-5e9f-4ebb-9014-024675d56047",
   "metadata": {},
   "outputs": [
    {
     "data": {
      "text/html": [
       "<div>\n",
       "<style scoped>\n",
       "    .dataframe tbody tr th:only-of-type {\n",
       "        vertical-align: middle;\n",
       "    }\n",
       "\n",
       "    .dataframe tbody tr th {\n",
       "        vertical-align: top;\n",
       "    }\n",
       "\n",
       "    .dataframe thead th {\n",
       "        text-align: right;\n",
       "    }\n",
       "</style>\n",
       "<table border=\"1\" class=\"dataframe\">\n",
       "  <thead>\n",
       "    <tr style=\"text-align: right;\">\n",
       "      <th></th>\n",
       "      <th>GC=F</th>\n",
       "      <th>prediction</th>\n",
       "      <th>decision</th>\n",
       "    </tr>\n",
       "    <tr>\n",
       "      <th>Date</th>\n",
       "      <th></th>\n",
       "      <th></th>\n",
       "      <th></th>\n",
       "    </tr>\n",
       "  </thead>\n",
       "  <tbody>\n",
       "    <tr>\n",
       "      <th>2020-06-17</th>\n",
       "      <td>1745.900024</td>\n",
       "      <td>1714.000000</td>\n",
       "      <td>-1.0</td>\n",
       "    </tr>\n",
       "    <tr>\n",
       "      <th>2020-06-18</th>\n",
       "      <td>1756.699951</td>\n",
       "      <td>1791.999999</td>\n",
       "      <td>1.0</td>\n",
       "    </tr>\n",
       "    <tr>\n",
       "      <th>2020-06-19</th>\n",
       "      <td>1772.099976</td>\n",
       "      <td>1757.000002</td>\n",
       "      <td>1.0</td>\n",
       "    </tr>\n",
       "    <tr>\n",
       "      <th>2020-06-20</th>\n",
       "      <td>1765.800049</td>\n",
       "      <td>1793.000000</td>\n",
       "      <td>1.0</td>\n",
       "    </tr>\n",
       "    <tr>\n",
       "      <th>2020-06-21</th>\n",
       "      <td>1762.099976</td>\n",
       "      <td>1735.000000</td>\n",
       "      <td>-1.0</td>\n",
       "    </tr>\n",
       "  </tbody>\n",
       "</table>\n",
       "</div>"
      ],
      "text/plain": [
       "                   GC=F   prediction  decision\n",
       "Date                                          \n",
       "2020-06-17  1745.900024  1714.000000      -1.0\n",
       "2020-06-18  1756.699951  1791.999999       1.0\n",
       "2020-06-19  1772.099976  1757.000002       1.0\n",
       "2020-06-20  1765.800049  1793.000000       1.0\n",
       "2020-06-21  1762.099976  1735.000000      -1.0"
      ]
     },
     "execution_count": 8,
     "metadata": {},
     "output_type": "execute_result"
    }
   ],
   "source": [
    "from src.utils import execute_kca_rolling_window_fit\n",
    "\n",
    "kca = KCAStrategy(validate)\n",
    "kca = execute_kca_rolling_window_fit(kca, test, days=10)\n",
    "\n",
    "kca.observations.tail()"
   ]
  },
  {
   "cell_type": "markdown",
   "id": "4303c463-cdba-438e-a07e-247b25bbca44",
   "metadata": {},
   "source": [
    "Above we execute our rolling window function using our `KCAStrategy` class for trading. As we can see, our class produces predictions for next day prices with decisions to buy or sell given the market price the day in which the prediction for created. A decision of 1 signifies a **buy** order and a -1 a **sell**.\n",
    "\n",
    "Once we produce a forecast of the next day price, we extract the actual price from our test set create in previous cells. We do this to compare how well the algorithm actually predicted the price.\n",
    "\n",
    "To recap, we have used `KCAStrategy` to produce predictions for next day prices and we eventually add the actual price to the date from our test sample set for comparison."
   ]
  },
  {
   "cell_type": "code",
   "execution_count": 9,
   "id": "047fce57-377e-442f-8c6a-1e99bfceac0a",
   "metadata": {},
   "outputs": [
    {
     "data": {
      "text/html": [
       "<div>\n",
       "<style scoped>\n",
       "    .dataframe tbody tr th:only-of-type {\n",
       "        vertical-align: middle;\n",
       "    }\n",
       "\n",
       "    .dataframe tbody tr th {\n",
       "        vertical-align: top;\n",
       "    }\n",
       "\n",
       "    .dataframe thead th {\n",
       "        text-align: right;\n",
       "    }\n",
       "</style>\n",
       "<table border=\"1\" class=\"dataframe\">\n",
       "  <thead>\n",
       "    <tr style=\"text-align: right;\">\n",
       "      <th></th>\n",
       "      <th>GC=F</th>\n",
       "      <th>prediction</th>\n",
       "      <th>decision</th>\n",
       "    </tr>\n",
       "    <tr>\n",
       "      <th>Date</th>\n",
       "      <th></th>\n",
       "      <th></th>\n",
       "      <th></th>\n",
       "    </tr>\n",
       "  </thead>\n",
       "  <tbody>\n",
       "    <tr>\n",
       "      <th>2020-06-12</th>\n",
       "      <td>1729.300049</td>\n",
       "      <td>1771.0</td>\n",
       "      <td>1.0</td>\n",
       "    </tr>\n",
       "    <tr>\n",
       "      <th>2020-06-13</th>\n",
       "      <td>1720.300049</td>\n",
       "      <td>1704.0</td>\n",
       "      <td>-1.0</td>\n",
       "    </tr>\n",
       "    <tr>\n",
       "      <th>2020-06-14</th>\n",
       "      <td>1729.599976</td>\n",
       "      <td>1705.0</td>\n",
       "      <td>-1.0</td>\n",
       "    </tr>\n",
       "    <tr>\n",
       "      <th>2020-06-15</th>\n",
       "      <td>1729.199951</td>\n",
       "      <td>1756.0</td>\n",
       "      <td>1.0</td>\n",
       "    </tr>\n",
       "    <tr>\n",
       "      <th>2020-06-16</th>\n",
       "      <td>1724.800049</td>\n",
       "      <td>1720.0</td>\n",
       "      <td>-1.0</td>\n",
       "    </tr>\n",
       "  </tbody>\n",
       "</table>\n",
       "</div>"
      ],
      "text/plain": [
       "                   GC=F  prediction  decision\n",
       "Date                                         \n",
       "2020-06-12  1729.300049      1771.0       1.0\n",
       "2020-06-13  1720.300049      1704.0      -1.0\n",
       "2020-06-14  1729.599976      1705.0      -1.0\n",
       "2020-06-15  1729.199951      1756.0       1.0\n",
       "2020-06-16  1724.800049      1720.0      -1.0"
      ]
     },
     "execution_count": 9,
     "metadata": {},
     "output_type": "execute_result"
    }
   ],
   "source": [
    "predictions = kca.observations[~kca.observations['prediction'].isnull()]\n",
    "\n",
    "predictions.head()"
   ]
  },
  {
   "cell_type": "code",
   "execution_count": 10,
   "id": "5b5f9fc1-25c2-4a80-9e78-c3787344363d",
   "metadata": {},
   "outputs": [
    {
     "name": "stderr",
     "output_type": "stream",
     "text": [
      "/home/gsmadi/Dev/oct_applications_21/gsmadi/venv/lib/python3.7/site-packages/ipykernel_launcher.py:3: SettingWithCopyWarning: \n",
      "A value is trying to be set on a copy of a slice from a DataFrame.\n",
      "Try using .loc[row_indexer,col_indexer] = value instead\n",
      "\n",
      "See the caveats in the documentation: https://pandas.pydata.org/pandas-docs/stable/user_guide/indexing.html#returning-a-view-versus-a-copy\n",
      "  This is separate from the ipykernel package so we can avoid doing imports until\n",
      "/home/gsmadi/Dev/oct_applications_21/gsmadi/src/utils.py:57: SettingWithCopyWarning: \n",
      "A value is trying to be set on a copy of a slice from a DataFrame.\n",
      "Try using .loc[row_indexer,col_indexer] = value instead\n",
      "\n",
      "See the caveats in the documentation: https://pandas.pydata.org/pandas-docs/stable/user_guide/indexing.html#returning-a-view-versus-a-copy\n",
      "  df['outcome'] = np.NAN\n",
      "/home/gsmadi/Dev/oct_applications_21/gsmadi/venv/lib/python3.7/site-packages/pandas/core/indexing.py:1817: SettingWithCopyWarning: \n",
      "A value is trying to be set on a copy of a slice from a DataFrame.\n",
      "Try using .loc[row_indexer,col_indexer] = value instead\n",
      "\n",
      "See the caveats in the documentation: https://pandas.pydata.org/pandas-docs/stable/user_guide/indexing.html#returning-a-view-versus-a-copy\n",
      "  self._setitem_single_column(loc, value, pi)\n"
     ]
    },
    {
     "data": {
      "text/html": [
       "<div>\n",
       "<style scoped>\n",
       "    .dataframe tbody tr th:only-of-type {\n",
       "        vertical-align: middle;\n",
       "    }\n",
       "\n",
       "    .dataframe tbody tr th {\n",
       "        vertical-align: top;\n",
       "    }\n",
       "\n",
       "    .dataframe thead th {\n",
       "        text-align: right;\n",
       "    }\n",
       "</style>\n",
       "<table border=\"1\" class=\"dataframe\">\n",
       "  <thead>\n",
       "    <tr style=\"text-align: right;\">\n",
       "      <th></th>\n",
       "      <th>GC=F</th>\n",
       "      <th>prediction</th>\n",
       "      <th>decision</th>\n",
       "      <th>prediction_delta</th>\n",
       "      <th>outcome</th>\n",
       "    </tr>\n",
       "    <tr>\n",
       "      <th>Date</th>\n",
       "      <th></th>\n",
       "      <th></th>\n",
       "      <th></th>\n",
       "      <th></th>\n",
       "      <th></th>\n",
       "    </tr>\n",
       "  </thead>\n",
       "  <tbody>\n",
       "    <tr>\n",
       "      <th>2020-06-12</th>\n",
       "      <td>1729.300049</td>\n",
       "      <td>1771.000000</td>\n",
       "      <td>1.0</td>\n",
       "      <td>-41.699951</td>\n",
       "      <td>0.0</td>\n",
       "    </tr>\n",
       "    <tr>\n",
       "      <th>2020-06-13</th>\n",
       "      <td>1720.300049</td>\n",
       "      <td>1704.000000</td>\n",
       "      <td>-1.0</td>\n",
       "      <td>16.300049</td>\n",
       "      <td>0.0</td>\n",
       "    </tr>\n",
       "    <tr>\n",
       "      <th>2020-06-14</th>\n",
       "      <td>1729.599976</td>\n",
       "      <td>1705.000000</td>\n",
       "      <td>-1.0</td>\n",
       "      <td>24.599976</td>\n",
       "      <td>0.0</td>\n",
       "    </tr>\n",
       "    <tr>\n",
       "      <th>2020-06-15</th>\n",
       "      <td>1729.199951</td>\n",
       "      <td>1756.000000</td>\n",
       "      <td>1.0</td>\n",
       "      <td>-26.800049</td>\n",
       "      <td>0.0</td>\n",
       "    </tr>\n",
       "    <tr>\n",
       "      <th>2020-06-16</th>\n",
       "      <td>1724.800049</td>\n",
       "      <td>1720.000000</td>\n",
       "      <td>-1.0</td>\n",
       "      <td>4.800049</td>\n",
       "      <td>0.0</td>\n",
       "    </tr>\n",
       "    <tr>\n",
       "      <th>2020-06-17</th>\n",
       "      <td>1745.900024</td>\n",
       "      <td>1714.000000</td>\n",
       "      <td>-1.0</td>\n",
       "      <td>31.900024</td>\n",
       "      <td>0.0</td>\n",
       "    </tr>\n",
       "    <tr>\n",
       "      <th>2020-06-18</th>\n",
       "      <td>1756.699951</td>\n",
       "      <td>1791.999999</td>\n",
       "      <td>1.0</td>\n",
       "      <td>-35.300048</td>\n",
       "      <td>0.0</td>\n",
       "    </tr>\n",
       "    <tr>\n",
       "      <th>2020-06-19</th>\n",
       "      <td>1772.099976</td>\n",
       "      <td>1757.000002</td>\n",
       "      <td>1.0</td>\n",
       "      <td>15.099974</td>\n",
       "      <td>1.0</td>\n",
       "    </tr>\n",
       "    <tr>\n",
       "      <th>2020-06-20</th>\n",
       "      <td>1765.800049</td>\n",
       "      <td>1793.000000</td>\n",
       "      <td>1.0</td>\n",
       "      <td>-27.199951</td>\n",
       "      <td>0.0</td>\n",
       "    </tr>\n",
       "    <tr>\n",
       "      <th>2020-06-21</th>\n",
       "      <td>1762.099976</td>\n",
       "      <td>1735.000000</td>\n",
       "      <td>-1.0</td>\n",
       "      <td>27.099975</td>\n",
       "      <td>0.0</td>\n",
       "    </tr>\n",
       "  </tbody>\n",
       "</table>\n",
       "</div>"
      ],
      "text/plain": [
       "                   GC=F   prediction  decision  prediction_delta  outcome\n",
       "Date                                                                     \n",
       "2020-06-12  1729.300049  1771.000000       1.0        -41.699951      0.0\n",
       "2020-06-13  1720.300049  1704.000000      -1.0         16.300049      0.0\n",
       "2020-06-14  1729.599976  1705.000000      -1.0         24.599976      0.0\n",
       "2020-06-15  1729.199951  1756.000000       1.0        -26.800049      0.0\n",
       "2020-06-16  1724.800049  1720.000000      -1.0          4.800049      0.0\n",
       "2020-06-17  1745.900024  1714.000000      -1.0         31.900024      0.0\n",
       "2020-06-18  1756.699951  1791.999999       1.0        -35.300048      0.0\n",
       "2020-06-19  1772.099976  1757.000002       1.0         15.099974      1.0\n",
       "2020-06-20  1765.800049  1793.000000       1.0        -27.199951      0.0\n",
       "2020-06-21  1762.099976  1735.000000      -1.0         27.099975      0.0"
      ]
     },
     "execution_count": 10,
     "metadata": {},
     "output_type": "execute_result"
    }
   ],
   "source": [
    "from src.utils import set_outcomes_of_predictions\n",
    "\n",
    "predictions['prediction_delta'] = predictions.iloc[:, 0] - predictions['prediction']\n",
    "predictions = set_outcomes_of_predictions(predictions)\n",
    "\n",
    "predictions"
   ]
  },
  {
   "cell_type": "markdown",
   "id": "b1763a1e-fb90-446b-b886-3661634a664f",
   "metadata": {},
   "source": [
    "Now that we have produced predictions and we know the actual values from our test set samples, lets see how well KCA fares. To see how well KCA performs we essentially see if it was right in direction in regard to the price movement and by how much.\n",
    "\n",
    "In the `prediction_delta` column we take the difference from the actual to the predicted value. Using the sign of this value and of the decision we create the `outcome` column. In this column, if the direction produced by KCA was correct we set a `1`, else a `0` for wrong.\n",
    "\n",
    "Computing a hit-to-miss ratio below, we see its not the greatest. Essentially, predicting 10 days worth of price movements, it only got 1 right. Now, lets highlight how little data we have to make conclusions on this."
   ]
  },
  {
   "cell_type": "code",
   "execution_count": 11,
   "id": "3b551dca-da07-4244-818a-44804c6b87d3",
   "metadata": {},
   "outputs": [
    {
     "name": "stdout",
     "output_type": "stream",
     "text": [
      "KCA hit-miss ratio: 0.1\n"
     ]
    }
   ],
   "source": [
    "from src.utils import compute_hit_to_miss_ratio\n",
    "\n",
    "print(\"KCA hit-miss ratio: {ratio}\".format(ratio=compute_hit_to_miss_ratio(predictions)))"
   ]
  },
  {
   "cell_type": "code",
   "execution_count": 12,
   "id": "ca6a2489-feb0-4c04-a7fe-e49916016561",
   "metadata": {},
   "outputs": [
    {
     "data": {
      "image/png": "[encoded data removed]",
      "text/plain": [
       "<Figure size 432x288 with 1 Axes>"
      ]
     },
     "metadata": {
      "needs_background": "light"
     },
     "output_type": "display_data"
    }
   ],
   "source": [
    "from src.plotting import plot_gold_kca_strategy\n",
    "\n",
    "plot_gold_kca_strategy(kca, predictions)"
   ]
  },
  {
   "cell_type": "markdown",
   "id": "f4014a87-cf5b-4726-9e34-6d340cd262fd",
   "metadata": {},
   "source": [
    "## Conclusion"
   ]
  },
  {
   "cell_type": "markdown",
   "id": "1bea1bff-d500-4abf-918e-af174f70740d",
   "metadata": {},
   "source": [
    "We saw how KCA can be applied to futures price signals, equivalent to noisy signals, and extract some interesting and perhaps meaningful information. While, this study is not comprehensive of KCA capabilities, we do note that the original KCA paper did not provide any experimental results. This was an initial red flag for its capabilities as applied to stochastic processes such as futures or other asset prices. The original paper does some initial presentation of the algorithm as applied to a sinusoid with some guassian noise. While it worked well in the example it is quite different to a stochastic process such as futures prices.\n",
    "\n",
    "While we cant conclude much given how small our sample results are we can ponder on how to improve and perhaps get strong confidence in future experimentation with KCA."
   ]
  },
  {
   "cell_type": "markdown",
   "id": "154fce89-918c-4cc4-8af4-9926ed77306a",
   "metadata": {},
   "source": [
    "### Improvements"
   ]
  },
  {
   "cell_type": "markdown",
   "id": "11632cb6-da75-4f8f-99a5-566a812cd25c",
   "metadata": {},
   "source": [
    "There are several steps we can take to improve experimental results with KCA in the future. The first we propose is speeding up the fitting routine to be able to crunch more\n",
    "data in a shorter time span.\n",
    "\n",
    "Another avenue to explore is different time resolutions. Perhaps larger cycles such as 5 or 10 year time length could improve forcasting. Conversely, smaller minute resolution time frame could also provide insights.\n",
    "\n",
    "Next time, if we can obtain more results and establish stronger statistical significance we could come to better conclusions as to KCA capabilities for forecasting noisy signals."
   ]
  }
 ],
 "metadata": {
  "kernelspec": {
   "display_name": "Python 3",
   "language": "python",
   "name": "python3"
  },
  "language_info": {
   "codemirror_mode": {
    "name": "ipython",
    "version": 3
   },
   "file_extension": ".py",
   "mimetype": "text/x-python",
   "name": "python",
   "nbconvert_exporter": "python",
   "pygments_lexer": "ipython3",
   "version": "3.7.5"
  }
 },
 "nbformat": 4,
 "nbformat_minor": 5
}
